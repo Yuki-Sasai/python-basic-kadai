{
  "nbformat": 4,
  "nbformat_minor": 0,
  "metadata": {
    "colab": {
      "provenance": []
    },
    "kernelspec": {
      "name": "python3",
      "display_name": "Python 3"
    },
    "language_info": {
      "name": "python"
    }
  },
  "cells": [
    {
      "cell_type": "code",
      "source": [
        "top_edge = 10\n",
        "bottom_edge = 20\n",
        "height = 5\n",
        "trapezoid_area = (top_edge + bottom_edge) * height / 2\n",
        "print(f\"{trapezoid_area}cm²\")"
      ],
      "metadata": {
        "colab": {
          "base_uri": "https://localhost:8080/"
        },
        "id": "ykZmbjVn028x",
        "outputId": "4bae7867-8eb6-4516-d182-7247cda33d49"
      },
      "execution_count": 19,
      "outputs": [
        {
          "output_type": "stream",
          "name": "stdout",
          "text": [
            "75.0cm²\n"
          ]
        }
      ]
    }
  ]
}