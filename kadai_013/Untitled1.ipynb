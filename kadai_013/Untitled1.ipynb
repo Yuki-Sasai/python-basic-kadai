{
  "nbformat": 4,
  "nbformat_minor": 0,
  "metadata": {
    "colab": {
      "provenance": []
    },
    "kernelspec": {
      "name": "python3",
      "display_name": "Python 3"
    },
    "language_info": {
      "name": "python"
    }
  },
  "cells": [
    {
      "cell_type": "code",
      "execution_count": 2,
      "metadata": {
        "colab": {
          "base_uri": "https://localhost:8080/"
        },
        "id": "bc8r10958-4C",
        "outputId": "484f4c72-acaa-4753-af9c-25d276eaadc2"
      },
      "outputs": [
        {
          "output_type": "stream",
          "name": "stdout",
          "text": [
            "2200.0\n"
          ]
        }
      ],
      "source": [
        "def tax_inclusive_amount(price, tax):\n",
        "    total = price * (1 + tax / 100)\n",
        "    return total\n",
        "\n",
        "print(tax_inclusive_amount(2000, 10))\n"
      ]
    }
  ]
}